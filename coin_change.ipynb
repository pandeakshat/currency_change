{
 "cells": [
  {
   "cell_type": "code",
   "execution_count": 94,
   "id": "caa682b4",
   "metadata": {},
   "outputs": [
    {
     "name": "stdout",
     "output_type": "stream",
     "text": [
      "enteramountpaid:2000\n",
      "entercost:100\n",
      "Making change for 1900 requires\n",
      "5 currencies\n",
      "They are:\n",
      "Rs.200 x2\n",
      "Rs.500 x3\n"
     ]
    }
   ],
   "source": [
    "def dpMakeChange(currencyValueList,change,mincurrencys,currencysUsed):\n",
    "    for counts in range(change+1):\n",
    "        currencyCount = counts\n",
    "        newcurrency = 1\n",
    "        for j in [c for c in currencyValueList if c <= counts]:\n",
    "            if mincurrencys[counts-j] + 1 < currencyCount:\n",
    "                currencyCount = mincurrencys[counts-j]+1\n",
    "                newcurrency = j\n",
    "            mincurrencys[counts] = currencyCount\n",
    "            currencysUsed[counts] = newcurrency\n",
    "    return mincurrencys[change]\n",
    "\n",
    "def printcurrencys(currencysUsed,change,currency_list):\n",
    "    currency = change\n",
    "    while currency > 0:\n",
    "        thiscurrency = currencysUsed[currency]\n",
    "        currency_list.append(thiscurrency)\n",
    "        currency = currency - thiscurrency\n",
    "\n",
    "def main():\n",
    "    Total=int(input(\"enteramountpaid:\"))\n",
    "    cost=int(input(\"entercost:\"))\n",
    "    amnt = Total-cost\n",
    "    clist = [1,2,5,10,20,50,100,200,500,2000]\n",
    "    \n",
    "    currencysUsed = [0]*(amnt+1)\n",
    "    currencyCount= [0]*(amnt+1)\n",
    "    currency_list=[]\n",
    "    print(\"Making change for\",amnt,\"requires\")\n",
    "    print(dpMakeChange(clist,amnt,currencyCount,currencysUsed),\"currencies\")\n",
    "    print(\"They are:\")\n",
    "    printcurrencys(currencysUsed,amnt,currency_list)\n",
    "    currency_change = {item:currency_list.count(item) for item in currency_list}\n",
    "    for currency,value in currency_change.items():\n",
    "        print(\"Rs.\" + str(currency) + \" x\" + str(value))    \n",
    "    \n",
    "main()\n",
    "\n",
    "\n"
   ]
  },
  {
   "cell_type": "code",
   "execution_count": null,
   "id": "31caf725",
   "metadata": {},
   "outputs": [],
   "source": []
  },
  {
   "cell_type": "code",
   "execution_count": null,
   "id": "820f118c",
   "metadata": {},
   "outputs": [],
   "source": []
  },
  {
   "cell_type": "code",
   "execution_count": null,
   "id": "5a8c81bd",
   "metadata": {},
   "outputs": [],
   "source": []
  },
  {
   "cell_type": "code",
   "execution_count": null,
   "id": "b9568ad6",
   "metadata": {},
   "outputs": [],
   "source": []
  },
  {
   "cell_type": "code",
   "execution_count": null,
   "id": "f2402b4a",
   "metadata": {},
   "outputs": [],
   "source": []
  },
  {
   "cell_type": "code",
   "execution_count": null,
   "id": "44fe667e",
   "metadata": {},
   "outputs": [],
   "source": []
  }
 ],
 "metadata": {
  "kernelspec": {
   "display_name": "Python [conda env:data_science] *",
   "language": "python",
   "name": "conda-env-data_science-py"
  },
  "language_info": {
   "codemirror_mode": {
    "name": "ipython",
    "version": 3
   },
   "file_extension": ".py",
   "mimetype": "text/x-python",
   "name": "python",
   "nbconvert_exporter": "python",
   "pygments_lexer": "ipython3",
   "version": "3.7.11"
  }
 },
 "nbformat": 4,
 "nbformat_minor": 5
}
